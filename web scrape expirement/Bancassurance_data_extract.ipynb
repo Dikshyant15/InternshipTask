{
 "cells": [
  {
   "cell_type": "code",
   "execution_count": 2,
   "metadata": {},
   "outputs": [],
   "source": [
    "import requests\n",
    "from bs4 import BeautifulSoup\n",
    "import json"
   ]
  },
  {
   "cell_type": "code",
   "execution_count": 3,
   "metadata": {},
   "outputs": [],
   "source": [
    "with open(r\"D:\\Internship\\EnterpriseKnowledgeBased\\data\\hrefs_dict2.json\") as f:\n",
    "    links_data=json.loads(f.read())"
   ]
  },
  {
   "cell_type": "code",
   "execution_count": 4,
   "metadata": {},
   "outputs": [
    {
     "data": {
      "text/plain": [
       "{'icon_home\\rHome': ['https://www.citybankplc.com/'],\n",
       " 'User\\rAbout Usicon_arrow-front': ['https://www.citybankplc.com/who-we-are',\n",
       "  'https://www.citybankplc.com/our-history',\n",
       "  'https://www.citybankplc.com/vision',\n",
       "  'https://www.citybankplc.com/board-of-directors',\n",
       "  'https://www.citybankplc.com/management-committee',\n",
       "  'https://www.citybankplc.com/shariah-supervisory-committee',\n",
       "  'https://www.citybankplc.comupload/CBL_Topline_Organogram_Jun_24.pdf',\n",
       "  'https://www.citybankplc.com/awards-accolades',\n",
       "  'https://www.citybankplc.com/report/annualreports',\n",
       "  'https://www.citybankplc.com/sustainability-report',\n",
       "  'https://www.citybankplc.com/upload/Corporate-Governance-Report.pdf',\n",
       "  'https://www.citybankplc.com/shareholding-information',\n",
       "  'https://www.citybankplc.com/anti-money-laundering',\n",
       "  'https://www.citybankplc.com/city-bank-subsidiary',\n",
       "  'https://www.citybankplc.com#about-us'],\n",
       " 'icon_accounts\\rAccountsicon_arrow-front': ['https://www.citybankplc.com/account/current-accounts',\n",
       "  'https://www.citybankplc.com/account/freelancers-solutions',\n",
       "  'https://www.citybankplc.com/account/easy-current-account',\n",
       "  'https://www.citybankplc.com/account/general-savings-account',\n",
       "  'https://www.citybankplc.com/account/green-savings-account',\n",
       "  'https://www.citybankplc.com/account/savings-delight-account',\n",
       "  'https://www.citybankplc.com/account/high-value-savings-account',\n",
       "  'https://www.citybankplc.com/account/new-born-savings-account',\n",
       "  'https://www.citybankplc.com/account/seniors-savings-account',\n",
       "  'https://www.citybankplc.com/account/student-savings-account-school-plan',\n",
       "  'https://www.citybankplc.com/account/student-savings-account-college-plan',\n",
       "  'https://www.citybankplc.com/account/student-file',\n",
       "  'https://www.citybankplc.com/account/goal-based-dps',\n",
       "  'https://www.citybankplc.com/account/insurance-backed-dps-account',\n",
       "  'https://www.citybankplc.com/account/fixed-deposit-account',\n",
       "  'https://www.citybankplc.com/account/monthly-interest-paying-fixed-deposit-account',\n",
       "  'https://www.citybankplc.com/account/fortune-transactional-account',\n",
       "  'https://www.citybankplc.com/account/rmg-workers-account',\n",
       "  'https://www.citybankplc.com/account/basic-savings-account',\n",
       "  'https://www.citybankplc.com/account/nfcd-account',\n",
       "  'https://www.citybankplc.com/account/rfcd-account',\n",
       "  'https://www.citybankplc.com/account/fcy-account',\n",
       "  'https://www.citybankplc.com/custodial-services-through-nita-account',\n",
       "  'https://www.citybankplc.com#account-sub-menu'],\n",
       " 'icon_loans\\rLoansicon_arrow-front': ['https://www.citybankplc.com/loan/auto-loan',\n",
       "  'https://www.citybankplc.com/loan/second-hand-car-loan',\n",
       "  'https://www.citybankplc.com/loan/personal-loan',\n",
       "  'https://www.citybankplc.com/loan/home-loan',\n",
       "  'https://www.citybankplc.com/loan/student-loan',\n",
       "  'https://www.citybankplc.com/loan/secured-facilities',\n",
       "  'https://www.citybankplc.com#loan-submenu'],\n",
       " 'icon_cards\\rCardsicon_arrow-front': ['https://www.citybankplc.com/card/amex-cards',\n",
       "  'https://citygo.citybankplc.com/',\n",
       "  'https://www.citybankplc.com/card/visa-cards',\n",
       "  'https://www.citybankplc.com/card/mastercard-cards',\n",
       "  'https://www.citybankplc.com/card/union-pay',\n",
       "  'https://positivepay.thecitybank.com/cards/',\n",
       "  'https://www.thecitybank.com/upload/1543989106.pdf',\n",
       "  'https://www.thecitybank.com/upload/Amex_Terms_and_Conditions.pdf',\n",
       "  'https://www.thecitybank.com/upload/Amex_Credit_Cards_Fees_Charges.pdf',\n",
       "  'https://www.citybankplc.com/credit-card-services-forms',\n",
       "  'https://network.americanexpress.com/globalnetwork/atm_locator/en/',\n",
       "  'https://www.citybankplc.com#card-submenu'],\n",
       " 'icon_agent\\rOffshore Banking': ['https://www.citybankplc.com/obu'],\n",
       " 'icon_agent\\rRFCD Account': ['https://www.citybankplc.com/account/rfcd-account'],\n",
       " 'icon_agent\\rBancassurance': ['https://www.citybankplc.com/bancassurance'],\n",
       " 'icon_wholesale\\rDigital Bankingicon_arrow-front': ['https://www.citybankplc.com/citytouch',\n",
       "  'https://www.ekhoni.app/',\n",
       "  'https://www.citybankplc.com/smart-ivr',\n",
       "  'https://customerservice.thecitybank.com/',\n",
       "  'https://www.citybankplc.com/',\n",
       "  'https://citylive.com.bd',\n",
       "  'https://cityq.thecitybank.com/internet',\n",
       "  'https://www.thecitybank.com/client/digital-brochure#book1/',\n",
       "  'https://www.citybankplc.com#digital-banking'],\n",
       " 'icon_cards\\rWholesale Bankingicon_arrow-front': ['https://www.citybankplc.com/working-capital-finance',\n",
       "  'https://www.citybankplc.com/trade-finance',\n",
       "  'https://www.citybankplc.com/shortmid-term-finance',\n",
       "  'https://www.citybankplc.com/project-finance',\n",
       "  'https://www.citybankplc.com/structured-finance',\n",
       "  'https://www.citybankplc.com/supply-chain-finance',\n",
       "  'https://www.citybankplc.com/cash-management',\n",
       "  'https://www.citybankplc.com/investment-banking',\n",
       "  'https://citylive.com.bd/',\n",
       "  'http://www.thecitybank.com/upload/SOC-Wholesale_25072021.pdf',\n",
       "  'http://www.thecitybank.com/upload/irate-wholesale-1624508413.pdf',\n",
       "  'https://www.citybankplc.com#wholesale-submenu'],\n",
       " 'icon_loans\\rTreasuryicon_arrow-front': ['https://www.citybankplc.com/overnight-deposits',\n",
       "  'https://www.citybankplc.com/term-deposits',\n",
       "  'https://www.citybankplc.com/foreign-exchange',\n",
       "  'https://www.citybankplc.com/local-currency-spot-and-forward',\n",
       "  'https://www.citybankplc.com/derivatives',\n",
       "  'https://www.citybankplc.com/government-securities-investment-window',\n",
       "  'https://www.citybankplc.com#treasury-submenu'],\n",
       " 'logo_citygem\\rPriority Bankingicon_arrow-front': ['http://citygem.com.bd/',\n",
       "  'http://citygem.com.bd/sapphire',\n",
       "  'https://www.citybankplc.com#prioritybanking'],\n",
       " 'logo_american-express\\rAmerican Express': ['https://www.americanexpress.com.bd/'],\n",
       " 'icon_sme\\rSME Banking': ['https://www.citybankplc.com/loan/city-sme-small-loan'],\n",
       " '\\rCity Alo - Women Banking ': ['https://www.cityalo.com/'],\n",
       " 'icon_agent\\rEmployee Banking': ['https://www.citybankplc.com/solutions/employee-banking'],\n",
       " 'icon_agent\\rAgent Banking': ['https://www.citybankplc.com/agent-banking'],\n",
       " 'icon_agent\\rFinancial Literacy': ['https://www.citybankplc.com/financial-literacy'],\n",
       " 'Overview': ['https://www.citybankplc.com/who-we-are'],\n",
       " 'History': ['https://www.citybankplc.com/our-history'],\n",
       " 'Vision, Mission, and Values': ['https://www.citybankplc.com/vision'],\n",
       " 'Board of Directors': ['https://www.citybankplc.com/board-of-directors'],\n",
       " 'Management Committee': ['https://www.citybankplc.com/management-committee'],\n",
       " 'Shariah Supervisory Committee': ['https://www.citybankplc.com/shariah-supervisory-committee'],\n",
       " 'Organogram': ['https://www.citybankplc.comupload/CBL_Topline_Organogram_Jun_24.pdf'],\n",
       " 'Awards & Recognitions': ['https://www.citybankplc.com/awards-accolades'],\n",
       " 'Annual Report': ['https://www.citybankplc.com/report/annualreports'],\n",
       " ' Sustainability Report': ['https://www.citybankplc.com/sustainability-report'],\n",
       " 'Corporate Governance Report': ['https://www.citybankplc.com/upload/Corporate-Governance-Report.pdf'],\n",
       " 'Shareholding Information': ['https://www.citybankplc.com/shareholding-information'],\n",
       " 'Anti-Money Laundering': ['https://www.citybankplc.com/anti-money-laundering'],\n",
       " 'City Bank Subsidiary': ['https://www.citybankplc.com/city-bank-subsidiary'],\n",
       " 'Current Account': ['https://www.citybankplc.com/account/current-accounts'],\n",
       " 'Freelancer Solution': ['https://www.citybankplc.com/account/freelancers-solutions'],\n",
       " 'EASY Current Account and EASY Plus Current Account': ['https://www.citybankplc.com/account/easy-current-account'],\n",
       " 'General Savings Account': ['https://www.citybankplc.com/account/general-savings-account'],\n",
       " 'Green Savings Account': ['https://www.citybankplc.com/account/green-savings-account'],\n",
       " 'Savings Delight Account': ['https://www.citybankplc.com/account/savings-delight-account'],\n",
       " 'High Value Savings Account': ['https://www.citybankplc.com/account/high-value-savings-account'],\n",
       " 'New Born Savings Account': ['https://www.citybankplc.com/account/new-born-savings-account'],\n",
       " \"Seniors' Savings Account\": ['https://www.citybankplc.com/account/seniors-savings-account'],\n",
       " 'Student Savings Account (School Plan)': ['https://www.citybankplc.com/account/student-savings-account-school-plan'],\n",
       " 'Student Savings Account (College Plan)': ['https://www.citybankplc.com/account/student-savings-account-college-plan'],\n",
       " 'Student File': ['https://www.citybankplc.com/account/student-file'],\n",
       " 'Goal Based DPS': ['https://www.citybankplc.com/account/goal-based-dps'],\n",
       " 'Insurance Backed DPS Account': ['https://www.citybankplc.com/account/insurance-backed-dps-account'],\n",
       " 'Fixed Deposit Account': ['https://www.citybankplc.com/account/fixed-deposit-account'],\n",
       " 'Monthly Interest Paying Fixed Deposit Account': ['https://www.citybankplc.com/account/monthly-interest-paying-fixed-deposit-account'],\n",
       " 'Fortune Transactional Account': ['https://www.citybankplc.com/account/fortune-transactional-account'],\n",
       " \"RMG Workers' Accounts\": ['https://www.citybankplc.com/account/rmg-workers-account'],\n",
       " 'Basic Savings Accounts': ['https://www.citybankplc.com/account/basic-savings-account'],\n",
       " 'NFCD Accounts': ['https://www.citybankplc.com/account/nfcd-account'],\n",
       " 'RFCD Account': ['https://www.citybankplc.com/account/rfcd-account'],\n",
       " 'FCY Accounts': ['https://www.citybankplc.com/account/fcy-account'],\n",
       " 'NITA Account': ['https://www.citybankplc.com/custodial-services-through-nita-account'],\n",
       " 'Auto Loan': ['https://www.citybankplc.com/loan/auto-loan'],\n",
       " 'Second Hand Auto Loan': ['https://www.citybankplc.com/loan/second-hand-car-loan'],\n",
       " 'Personal Loan': ['https://www.citybankplc.com/loan/personal-loan'],\n",
       " 'Home Loan': ['https://www.citybankplc.com/loan/home-loan'],\n",
       " 'Student Loan': ['https://www.citybankplc.com/loan/student-loan'],\n",
       " 'Secured Facilities': ['https://www.citybankplc.com/loan/secured-facilities'],\n",
       " 'American Express Cards': ['https://www.citybankplc.com/card/amex-cards'],\n",
       " 'CityGo': ['https://citygo.citybankplc.com/'],\n",
       " 'Visa Cards': ['https://www.citybankplc.com/card/visa-cards'],\n",
       " 'Mastercard Cards': ['https://www.citybankplc.com/card/mastercard-cards'],\n",
       " 'UnionPay Gold Debit Card': ['https://www.citybankplc.com/card/union-pay'],\n",
       " 'Credit Cards Customer Service Portal ': ['https://www.citybankplc.com/'],\n",
       " 'Cards FAQ': ['https://www.thecitybank.com/upload/1543989106.pdf'],\n",
       " 'American Express T&C': ['https://www.thecitybank.com/upload/Amex_Terms_and_Conditions.pdf'],\n",
       " 'Fees & Charges of American Express Credit Cards': ['https://www.thecitybank.com/upload/Amex_Credit_Cards_Fees_Charges.pdf'],\n",
       " 'Credit Card Services Forms': ['https://www.citybankplc.com/credit-card-services-forms'],\n",
       " 'Find American Express Global ATM': ['https://network.americanexpress.com/globalnetwork/atm_locator/en/'],\n",
       " 'Citytouch': ['https://www.citybankplc.com/citytouch'],\n",
       " 'Ekhoni Account': ['https://www.ekhoni.app/'],\n",
       " 'Smart IVR': ['https://www.citybankplc.com/smart-ivr'],\n",
       " 'Customer service Portal': ['https://customerservice.thecitybank.com/'],\n",
       " 'City Live': ['https://citylive.com.bd/'],\n",
       " 'CityQ ': ['https://cityq.thecitybank.com/internet'],\n",
       " 'Digital Service Brochure': ['https://www.thecitybank.com/client/digital-brochure#book1/'],\n",
       " 'Working Capital Finance': ['https://www.citybankplc.com/working-capital-finance'],\n",
       " 'Trade Finance': ['https://www.citybankplc.com/trade-finance'],\n",
       " 'Short/Mid-Term Finance': ['https://www.citybankplc.com/shortmid-term-finance'],\n",
       " 'Project Finance': ['https://www.citybankplc.com/project-finance'],\n",
       " 'Structured Finance': ['https://www.citybankplc.com/structured-finance'],\n",
       " 'Supply Chain Finance': ['https://www.citybankplc.com/supply-chain-finance'],\n",
       " 'Cash Management': ['https://www.citybankplc.com/cash-management'],\n",
       " 'Investment Banking': ['https://www.citybankplc.com/investment-banking'],\n",
       " 'Schedule of Charges': ['http://www.thecitybank.com/upload/SOC-Wholesale_25072021.pdf'],\n",
       " 'Interest Rate on Lending': ['http://www.thecitybank.com/upload/irate-wholesale-1624508413.pdf'],\n",
       " 'Overnight Deposits': ['https://www.citybankplc.com/overnight-deposits'],\n",
       " 'Term Deposits': ['https://www.citybankplc.com/term-deposits'],\n",
       " 'Foreign Exchange': ['https://www.citybankplc.com/foreign-exchange'],\n",
       " 'Local Currency Spot and Forward': ['https://www.citybankplc.com/local-currency-spot-and-forward'],\n",
       " 'Derivatives': ['https://www.citybankplc.com/derivatives'],\n",
       " 'Government Securities Investment Window': ['https://www.citybankplc.com/government-securities-investment-window'],\n",
       " 'Citygem': ['http://citygem.com.bd/'],\n",
       " 'Sapphire': ['http://citygem.com.bd/sapphire']}"
      ]
     },
     "execution_count": 4,
     "metadata": {},
     "output_type": "execute_result"
    }
   ],
   "source": [
    "links_data"
   ]
  },
  {
   "cell_type": "code",
   "execution_count": 5,
   "metadata": {},
   "outputs": [
    {
     "data": {
      "text/plain": [
       "list"
      ]
     },
     "execution_count": 5,
     "metadata": {},
     "output_type": "execute_result"
    }
   ],
   "source": [
    "list1=links_data.get(\"icon_agent\\rBancassurance\")\n",
    "type(list1)"
   ]
  },
  {
   "cell_type": "code",
   "execution_count": 6,
   "metadata": {},
   "outputs": [
    {
     "data": {
      "text/plain": [
       "['https://www.citybankplc.com/bancassurance']"
      ]
     },
     "execution_count": 6,
     "metadata": {},
     "output_type": "execute_result"
    }
   ],
   "source": [
    "list1"
   ]
  },
  {
   "cell_type": "code",
   "execution_count": 20,
   "metadata": {},
   "outputs": [
    {
     "name": "stdout",
     "output_type": "stream",
     "text": [
      "['https://www.citybankplc.com/guardian-sanchay', 'https://www.citybankplc.com/four-4-stage-plan', 'https://www.citybankplc.com/child-protection-plan', 'https://www.citybankplc.com/nischit-pension', 'https://www.citybankplc.com/guardian-probridhi']\n"
     ]
    },
    {
     "data": {
      "text/plain": [
       "{'https://www.citybankplc.com/bancassurance': [{'title': 'Guardian Sanchay',\n",
       "   'link': 'https://www.citybankplc.com/guardian-sanchay'},\n",
       "  {'title': 'Four [4] Stage Plan',\n",
       "   'link': 'https://www.citybankplc.com/four-4-stage-plan'},\n",
       "  {'title': 'Child Protection Plan',\n",
       "   'link': 'https://www.citybankplc.com/child-protection-plan'},\n",
       "  {'title': 'Nischit Pension',\n",
       "   'link': 'https://www.citybankplc.com/nischit-pension'},\n",
       "  {'title': 'Guardian Probridhi (Tax Saver)',\n",
       "   'link': 'https://www.citybankplc.com/guardian-probridhi'}]}"
      ]
     },
     "execution_count": 20,
     "metadata": {},
     "output_type": "execute_result"
    }
   ],
   "source": [
    "bancassurance_data={}\n",
    "links = []\n",
    "\n",
    "for parse_link in list1:\n",
    "    bancassurance_data[parse_link] = []\n",
    "    response = requests.get(parse_link)\n",
    "    data = response.text\n",
    "    try:\n",
    "        soup = BeautifulSoup(data, \"html.parser\")\n",
    "        card_rows = soup.find_all(name='div', attrs={\"class\": \"basic-cards items rows\"})\n",
    "        \n",
    "        for card_row in card_rows:\n",
    "            cards = card_row.find_all(name=\"div\", attrs={\"class\": \"col-md-4 col-sm-6 cardpading\"})\n",
    "            for card in cards:\n",
    "                title = card.find(name='h3', class_='title').text.strip()\n",
    "                link = card.find(name='a')['href']\n",
    "                bancassurance_data[parse_link].append({'title': title, 'link': link})\n",
    "        for key in bancassurance_data:\n",
    "            for item in bancassurance_data[key]:\n",
    "                links.append(item['link'])\n",
    "        print(links)  \n",
    "    except Exception as e:\n",
    "        print(f\"An error occurred while processing {parse_link}: {e}\")\n",
    "        continue\n",
    "\n",
    "bancassurance_data"
   ]
  }
 ],
 "metadata": {
  "kernelspec": {
   "display_name": "Python 3",
   "language": "python",
   "name": "python3"
  },
  "language_info": {
   "codemirror_mode": {
    "name": "ipython",
    "version": 3
   },
   "file_extension": ".py",
   "mimetype": "text/x-python",
   "name": "python",
   "nbconvert_exporter": "python",
   "pygments_lexer": "ipython3",
   "version": "3.9.19"
  }
 },
 "nbformat": 4,
 "nbformat_minor": 2
}
